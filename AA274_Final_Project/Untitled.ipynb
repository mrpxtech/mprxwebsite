{
 "cells": [
  {
   "cell_type": "code",
   "execution_count": null,
   "metadata": {},
   "outputs": [],
   "source": [
    "frontiers_scaled = np.array([[1,2],[2,3],[3,4]])\n",
    "frontier_dist_to_robot_thresh =0.25\n",
    "distances= np.array([.05,.6,1,5])\n",
    "mask = (distances>frontier_dist_to_robot_thresh)\n",
    "frontiers_scaled = frontiers_scaled[mask] \n",
    "print(frontiers_scaled)"
   ]
  },
  {
   "cell_type": "code",
   "execution_count": null,
   "metadata": {},
   "outputs": [],
   "source": []
  }
 ],
 "metadata": {
  "kernelspec": {
   "display_name": "Python 2",
   "language": "python",
   "name": "python2"
  }
 },
 "nbformat": 4,
 "nbformat_minor": 2
}
